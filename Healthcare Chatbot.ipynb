{
 "cells": [
  {
   "cell_type": "code",
   "execution_count": 27,
   "id": "d0afaba7",
   "metadata": {
    "id": "d0afaba7"
   },
   "outputs": [],
   "source": [
    "import pandas as pd\n",
    "import numpy as np"
   ]
  },
  {
   "cell_type": "code",
   "execution_count": 28,
   "id": "ee0a1d71",
   "metadata": {
    "id": "ee0a1d71"
   },
   "outputs": [],
   "source": [
    "data = pd.read_csv('large_data.csv')"
   ]
  },
  {
   "cell_type": "code",
   "execution_count": 29,
   "id": "7894186d",
   "metadata": {
    "colab": {
     "base_uri": "https://localhost:8080/",
     "height": 299
    },
    "id": "7894186d",
    "outputId": "28312590-5d1b-4616-9294-a8a4c2c75af9"
   },
   "outputs": [
    {
     "data": {
      "text/html": [
       "<div>\n",
       "<style scoped>\n",
       "    .dataframe tbody tr th:only-of-type {\n",
       "        vertical-align: middle;\n",
       "    }\n",
       "\n",
       "    .dataframe tbody tr th {\n",
       "        vertical-align: top;\n",
       "    }\n",
       "\n",
       "    .dataframe thead th {\n",
       "        text-align: right;\n",
       "    }\n",
       "</style>\n",
       "<table border=\"1\" class=\"dataframe\">\n",
       "  <thead>\n",
       "    <tr style=\"text-align: right;\">\n",
       "      <th></th>\n",
       "      <th>COUGH</th>\n",
       "      <th>MUSCLE_ACHES</th>\n",
       "      <th>TIREDNESS</th>\n",
       "      <th>SORE_THROAT</th>\n",
       "      <th>RUNNY_NOSE</th>\n",
       "      <th>STUFFY_NOSE</th>\n",
       "      <th>FEVER</th>\n",
       "      <th>NAUSEA</th>\n",
       "      <th>VOMITING</th>\n",
       "      <th>DIARRHEA</th>\n",
       "      <th>...</th>\n",
       "      <th>DIFFICULTY_BREATHING</th>\n",
       "      <th>LOSS_OF_TASTE</th>\n",
       "      <th>LOSS_OF_SMELL</th>\n",
       "      <th>ITCHY_NOSE</th>\n",
       "      <th>ITCHY_EYES</th>\n",
       "      <th>ITCHY_MOUTH</th>\n",
       "      <th>ITCHY_INNER_EAR</th>\n",
       "      <th>SNEEZING</th>\n",
       "      <th>PINK_EYE</th>\n",
       "      <th>TYPE</th>\n",
       "    </tr>\n",
       "  </thead>\n",
       "  <tbody>\n",
       "    <tr>\n",
       "      <th>0</th>\n",
       "      <td>0</td>\n",
       "      <td>0</td>\n",
       "      <td>1</td>\n",
       "      <td>0</td>\n",
       "      <td>1</td>\n",
       "      <td>0</td>\n",
       "      <td>0</td>\n",
       "      <td>0</td>\n",
       "      <td>0</td>\n",
       "      <td>0</td>\n",
       "      <td>...</td>\n",
       "      <td>0</td>\n",
       "      <td>1</td>\n",
       "      <td>0</td>\n",
       "      <td>1</td>\n",
       "      <td>0</td>\n",
       "      <td>0</td>\n",
       "      <td>1</td>\n",
       "      <td>0</td>\n",
       "      <td>1</td>\n",
       "      <td>ALLERGY</td>\n",
       "    </tr>\n",
       "    <tr>\n",
       "      <th>1</th>\n",
       "      <td>0</td>\n",
       "      <td>0</td>\n",
       "      <td>1</td>\n",
       "      <td>0</td>\n",
       "      <td>0</td>\n",
       "      <td>0</td>\n",
       "      <td>0</td>\n",
       "      <td>0</td>\n",
       "      <td>0</td>\n",
       "      <td>0</td>\n",
       "      <td>...</td>\n",
       "      <td>0</td>\n",
       "      <td>1</td>\n",
       "      <td>0</td>\n",
       "      <td>1</td>\n",
       "      <td>0</td>\n",
       "      <td>1</td>\n",
       "      <td>1</td>\n",
       "      <td>1</td>\n",
       "      <td>1</td>\n",
       "      <td>ALLERGY</td>\n",
       "    </tr>\n",
       "    <tr>\n",
       "      <th>2</th>\n",
       "      <td>0</td>\n",
       "      <td>1</td>\n",
       "      <td>1</td>\n",
       "      <td>1</td>\n",
       "      <td>0</td>\n",
       "      <td>0</td>\n",
       "      <td>0</td>\n",
       "      <td>0</td>\n",
       "      <td>0</td>\n",
       "      <td>0</td>\n",
       "      <td>...</td>\n",
       "      <td>0</td>\n",
       "      <td>1</td>\n",
       "      <td>0</td>\n",
       "      <td>1</td>\n",
       "      <td>0</td>\n",
       "      <td>0</td>\n",
       "      <td>0</td>\n",
       "      <td>0</td>\n",
       "      <td>1</td>\n",
       "      <td>ALLERGY</td>\n",
       "    </tr>\n",
       "    <tr>\n",
       "      <th>3</th>\n",
       "      <td>0</td>\n",
       "      <td>0</td>\n",
       "      <td>0</td>\n",
       "      <td>1</td>\n",
       "      <td>1</td>\n",
       "      <td>0</td>\n",
       "      <td>0</td>\n",
       "      <td>0</td>\n",
       "      <td>0</td>\n",
       "      <td>0</td>\n",
       "      <td>...</td>\n",
       "      <td>0</td>\n",
       "      <td>1</td>\n",
       "      <td>1</td>\n",
       "      <td>0</td>\n",
       "      <td>0</td>\n",
       "      <td>1</td>\n",
       "      <td>0</td>\n",
       "      <td>1</td>\n",
       "      <td>1</td>\n",
       "      <td>ALLERGY</td>\n",
       "    </tr>\n",
       "    <tr>\n",
       "      <th>4</th>\n",
       "      <td>0</td>\n",
       "      <td>0</td>\n",
       "      <td>1</td>\n",
       "      <td>0</td>\n",
       "      <td>1</td>\n",
       "      <td>0</td>\n",
       "      <td>0</td>\n",
       "      <td>0</td>\n",
       "      <td>0</td>\n",
       "      <td>0</td>\n",
       "      <td>...</td>\n",
       "      <td>0</td>\n",
       "      <td>1</td>\n",
       "      <td>1</td>\n",
       "      <td>0</td>\n",
       "      <td>1</td>\n",
       "      <td>0</td>\n",
       "      <td>1</td>\n",
       "      <td>1</td>\n",
       "      <td>1</td>\n",
       "      <td>ALLERGY</td>\n",
       "    </tr>\n",
       "  </tbody>\n",
       "</table>\n",
       "<p>5 rows × 21 columns</p>\n",
       "</div>"
      ],
      "text/plain": [
       "   COUGH  MUSCLE_ACHES  TIREDNESS  SORE_THROAT  RUNNY_NOSE  STUFFY_NOSE  \\\n",
       "0      0             0          1            0           1            0   \n",
       "1      0             0          1            0           0            0   \n",
       "2      0             1          1            1           0            0   \n",
       "3      0             0          0            1           1            0   \n",
       "4      0             0          1            0           1            0   \n",
       "\n",
       "   FEVER  NAUSEA  VOMITING  DIARRHEA  ...  DIFFICULTY_BREATHING  \\\n",
       "0      0       0         0         0  ...                     0   \n",
       "1      0       0         0         0  ...                     0   \n",
       "2      0       0         0         0  ...                     0   \n",
       "3      0       0         0         0  ...                     0   \n",
       "4      0       0         0         0  ...                     0   \n",
       "\n",
       "   LOSS_OF_TASTE  LOSS_OF_SMELL  ITCHY_NOSE  ITCHY_EYES  ITCHY_MOUTH  \\\n",
       "0              1              0           1           0            0   \n",
       "1              1              0           1           0            1   \n",
       "2              1              0           1           0            0   \n",
       "3              1              1           0           0            1   \n",
       "4              1              1           0           1            0   \n",
       "\n",
       "   ITCHY_INNER_EAR  SNEEZING  PINK_EYE     TYPE  \n",
       "0                1         0         1  ALLERGY  \n",
       "1                1         1         1  ALLERGY  \n",
       "2                0         0         1  ALLERGY  \n",
       "3                0         1         1  ALLERGY  \n",
       "4                1         1         1  ALLERGY  \n",
       "\n",
       "[5 rows x 21 columns]"
      ]
     },
     "execution_count": 29,
     "metadata": {},
     "output_type": "execute_result"
    }
   ],
   "source": [
    "data.head()"
   ]
  },
  {
   "cell_type": "code",
   "execution_count": 30,
   "id": "9798e2ce",
   "metadata": {
    "colab": {
     "base_uri": "https://localhost:8080/"
    },
    "id": "9798e2ce",
    "outputId": "295ae5d4-5e43-4897-f8ee-49f6d8d63f77"
   },
   "outputs": [
    {
     "data": {
      "text/plain": [
       "(44453, 21)"
      ]
     },
     "execution_count": 30,
     "metadata": {},
     "output_type": "execute_result"
    }
   ],
   "source": [
    "data.shape"
   ]
  },
  {
   "cell_type": "code",
   "execution_count": 31,
   "id": "2652da09",
   "metadata": {
    "colab": {
     "base_uri": "https://localhost:8080/"
    },
    "id": "2652da09",
    "outputId": "45a73ddc-7624-45ee-9869-acd858ae42b5"
   },
   "outputs": [
    {
     "name": "stdout",
     "output_type": "stream",
     "text": [
      "<class 'pandas.core.frame.DataFrame'>\n",
      "RangeIndex: 44453 entries, 0 to 44452\n",
      "Data columns (total 21 columns):\n",
      " #   Column                Non-Null Count  Dtype \n",
      "---  ------                --------------  ----- \n",
      " 0   COUGH                 44453 non-null  int64 \n",
      " 1   MUSCLE_ACHES          44453 non-null  int64 \n",
      " 2   TIREDNESS             44453 non-null  int64 \n",
      " 3   SORE_THROAT           44453 non-null  int64 \n",
      " 4   RUNNY_NOSE            44453 non-null  int64 \n",
      " 5   STUFFY_NOSE           44453 non-null  int64 \n",
      " 6   FEVER                 44453 non-null  int64 \n",
      " 7   NAUSEA                44453 non-null  int64 \n",
      " 8   VOMITING              44453 non-null  int64 \n",
      " 9   DIARRHEA              44453 non-null  int64 \n",
      " 10  SHORTNESS_OF_BREATH   44453 non-null  int64 \n",
      " 11  DIFFICULTY_BREATHING  44453 non-null  int64 \n",
      " 12  LOSS_OF_TASTE         44453 non-null  int64 \n",
      " 13  LOSS_OF_SMELL         44453 non-null  int64 \n",
      " 14  ITCHY_NOSE            44453 non-null  int64 \n",
      " 15  ITCHY_EYES            44453 non-null  int64 \n",
      " 16  ITCHY_MOUTH           44453 non-null  int64 \n",
      " 17  ITCHY_INNER_EAR       44453 non-null  int64 \n",
      " 18  SNEEZING              44453 non-null  int64 \n",
      " 19  PINK_EYE              44453 non-null  int64 \n",
      " 20  TYPE                  44453 non-null  object\n",
      "dtypes: int64(20), object(1)\n",
      "memory usage: 7.1+ MB\n"
     ]
    }
   ],
   "source": [
    "data.info()"
   ]
  },
  {
   "cell_type": "code",
   "execution_count": 32,
   "id": "a0d54638",
   "metadata": {
    "colab": {
     "base_uri": "https://localhost:8080/"
    },
    "id": "a0d54638",
    "outputId": "149378ab-c974-4417-8feb-fcfe76f9b548"
   },
   "outputs": [
    {
     "data": {
      "text/plain": [
       "COUGH                   0\n",
       "MUSCLE_ACHES            0\n",
       "TIREDNESS               0\n",
       "SORE_THROAT             0\n",
       "RUNNY_NOSE              0\n",
       "STUFFY_NOSE             0\n",
       "FEVER                   0\n",
       "NAUSEA                  0\n",
       "VOMITING                0\n",
       "DIARRHEA                0\n",
       "SHORTNESS_OF_BREATH     0\n",
       "DIFFICULTY_BREATHING    0\n",
       "LOSS_OF_TASTE           0\n",
       "LOSS_OF_SMELL           0\n",
       "ITCHY_NOSE              0\n",
       "ITCHY_EYES              0\n",
       "ITCHY_MOUTH             0\n",
       "ITCHY_INNER_EAR         0\n",
       "SNEEZING                0\n",
       "PINK_EYE                0\n",
       "TYPE                    0\n",
       "dtype: int64"
      ]
     },
     "execution_count": 32,
     "metadata": {},
     "output_type": "execute_result"
    }
   ],
   "source": [
    "data.isnull().sum()"
   ]
  },
  {
   "cell_type": "code",
   "execution_count": 33,
   "id": "c3d697b0",
   "metadata": {
    "colab": {
     "base_uri": "https://localhost:8080/"
    },
    "id": "c3d697b0",
    "outputId": "891161dd-ffff-4a02-80a4-ac2309b48bfb"
   },
   "outputs": [
    {
     "data": {
      "text/plain": [
       "0"
      ]
     },
     "execution_count": 33,
     "metadata": {},
     "output_type": "execute_result"
    }
   ],
   "source": [
    "data.duplicated().sum()"
   ]
  },
  {
   "cell_type": "code",
   "execution_count": 34,
   "id": "UUtsFbOJw3KZ",
   "metadata": {
    "colab": {
     "base_uri": "https://localhost:8080/",
     "height": 364
    },
    "id": "UUtsFbOJw3KZ",
    "outputId": "0b596e36-cb76-4bc7-b219-c78dda99172b"
   },
   "outputs": [
    {
     "data": {
      "text/html": [
       "<div>\n",
       "<style scoped>\n",
       "    .dataframe tbody tr th:only-of-type {\n",
       "        vertical-align: middle;\n",
       "    }\n",
       "\n",
       "    .dataframe tbody tr th {\n",
       "        vertical-align: top;\n",
       "    }\n",
       "\n",
       "    .dataframe thead th {\n",
       "        text-align: right;\n",
       "    }\n",
       "</style>\n",
       "<table border=\"1\" class=\"dataframe\">\n",
       "  <thead>\n",
       "    <tr style=\"text-align: right;\">\n",
       "      <th></th>\n",
       "      <th>COUGH</th>\n",
       "      <th>MUSCLE_ACHES</th>\n",
       "      <th>TIREDNESS</th>\n",
       "      <th>SORE_THROAT</th>\n",
       "      <th>RUNNY_NOSE</th>\n",
       "      <th>STUFFY_NOSE</th>\n",
       "      <th>FEVER</th>\n",
       "      <th>NAUSEA</th>\n",
       "      <th>VOMITING</th>\n",
       "      <th>DIARRHEA</th>\n",
       "      <th>SHORTNESS_OF_BREATH</th>\n",
       "      <th>DIFFICULTY_BREATHING</th>\n",
       "      <th>LOSS_OF_TASTE</th>\n",
       "      <th>LOSS_OF_SMELL</th>\n",
       "      <th>ITCHY_NOSE</th>\n",
       "      <th>ITCHY_EYES</th>\n",
       "      <th>ITCHY_MOUTH</th>\n",
       "      <th>ITCHY_INNER_EAR</th>\n",
       "      <th>SNEEZING</th>\n",
       "      <th>PINK_EYE</th>\n",
       "    </tr>\n",
       "  </thead>\n",
       "  <tbody>\n",
       "    <tr>\n",
       "      <th>count</th>\n",
       "      <td>44453.000000</td>\n",
       "      <td>44453.000000</td>\n",
       "      <td>44453.000000</td>\n",
       "      <td>44453.000000</td>\n",
       "      <td>44453.000000</td>\n",
       "      <td>44453.000000</td>\n",
       "      <td>44453.000000</td>\n",
       "      <td>44453.000000</td>\n",
       "      <td>44453.000000</td>\n",
       "      <td>44453.000000</td>\n",
       "      <td>44453.000000</td>\n",
       "      <td>44453.000000</td>\n",
       "      <td>44453.000000</td>\n",
       "      <td>44453.000000</td>\n",
       "      <td>44453.000000</td>\n",
       "      <td>44453.000000</td>\n",
       "      <td>44453.000000</td>\n",
       "      <td>44453.000000</td>\n",
       "      <td>44453.000000</td>\n",
       "      <td>44453.000000</td>\n",
       "    </tr>\n",
       "    <tr>\n",
       "      <th>mean</th>\n",
       "      <td>0.520662</td>\n",
       "      <td>0.519762</td>\n",
       "      <td>0.519897</td>\n",
       "      <td>0.519358</td>\n",
       "      <td>0.496232</td>\n",
       "      <td>0.495850</td>\n",
       "      <td>0.325400</td>\n",
       "      <td>0.324253</td>\n",
       "      <td>0.324523</td>\n",
       "      <td>0.323465</td>\n",
       "      <td>0.323893</td>\n",
       "      <td>0.324455</td>\n",
       "      <td>0.422986</td>\n",
       "      <td>0.423234</td>\n",
       "      <td>0.184285</td>\n",
       "      <td>0.184285</td>\n",
       "      <td>0.184285</td>\n",
       "      <td>0.184285</td>\n",
       "      <td>0.519313</td>\n",
       "      <td>0.184240</td>\n",
       "    </tr>\n",
       "    <tr>\n",
       "      <th>std</th>\n",
       "      <td>0.499579</td>\n",
       "      <td>0.499615</td>\n",
       "      <td>0.499610</td>\n",
       "      <td>0.499631</td>\n",
       "      <td>0.499991</td>\n",
       "      <td>0.499988</td>\n",
       "      <td>0.468529</td>\n",
       "      <td>0.468100</td>\n",
       "      <td>0.468201</td>\n",
       "      <td>0.467804</td>\n",
       "      <td>0.467965</td>\n",
       "      <td>0.468176</td>\n",
       "      <td>0.494039</td>\n",
       "      <td>0.494077</td>\n",
       "      <td>0.387720</td>\n",
       "      <td>0.387720</td>\n",
       "      <td>0.387720</td>\n",
       "      <td>0.387720</td>\n",
       "      <td>0.499633</td>\n",
       "      <td>0.387684</td>\n",
       "    </tr>\n",
       "    <tr>\n",
       "      <th>min</th>\n",
       "      <td>0.000000</td>\n",
       "      <td>0.000000</td>\n",
       "      <td>0.000000</td>\n",
       "      <td>0.000000</td>\n",
       "      <td>0.000000</td>\n",
       "      <td>0.000000</td>\n",
       "      <td>0.000000</td>\n",
       "      <td>0.000000</td>\n",
       "      <td>0.000000</td>\n",
       "      <td>0.000000</td>\n",
       "      <td>0.000000</td>\n",
       "      <td>0.000000</td>\n",
       "      <td>0.000000</td>\n",
       "      <td>0.000000</td>\n",
       "      <td>0.000000</td>\n",
       "      <td>0.000000</td>\n",
       "      <td>0.000000</td>\n",
       "      <td>0.000000</td>\n",
       "      <td>0.000000</td>\n",
       "      <td>0.000000</td>\n",
       "    </tr>\n",
       "    <tr>\n",
       "      <th>25%</th>\n",
       "      <td>0.000000</td>\n",
       "      <td>0.000000</td>\n",
       "      <td>0.000000</td>\n",
       "      <td>0.000000</td>\n",
       "      <td>0.000000</td>\n",
       "      <td>0.000000</td>\n",
       "      <td>0.000000</td>\n",
       "      <td>0.000000</td>\n",
       "      <td>0.000000</td>\n",
       "      <td>0.000000</td>\n",
       "      <td>0.000000</td>\n",
       "      <td>0.000000</td>\n",
       "      <td>0.000000</td>\n",
       "      <td>0.000000</td>\n",
       "      <td>0.000000</td>\n",
       "      <td>0.000000</td>\n",
       "      <td>0.000000</td>\n",
       "      <td>0.000000</td>\n",
       "      <td>0.000000</td>\n",
       "      <td>0.000000</td>\n",
       "    </tr>\n",
       "    <tr>\n",
       "      <th>50%</th>\n",
       "      <td>1.000000</td>\n",
       "      <td>1.000000</td>\n",
       "      <td>1.000000</td>\n",
       "      <td>1.000000</td>\n",
       "      <td>0.000000</td>\n",
       "      <td>0.000000</td>\n",
       "      <td>0.000000</td>\n",
       "      <td>0.000000</td>\n",
       "      <td>0.000000</td>\n",
       "      <td>0.000000</td>\n",
       "      <td>0.000000</td>\n",
       "      <td>0.000000</td>\n",
       "      <td>0.000000</td>\n",
       "      <td>0.000000</td>\n",
       "      <td>0.000000</td>\n",
       "      <td>0.000000</td>\n",
       "      <td>0.000000</td>\n",
       "      <td>0.000000</td>\n",
       "      <td>1.000000</td>\n",
       "      <td>0.000000</td>\n",
       "    </tr>\n",
       "    <tr>\n",
       "      <th>75%</th>\n",
       "      <td>1.000000</td>\n",
       "      <td>1.000000</td>\n",
       "      <td>1.000000</td>\n",
       "      <td>1.000000</td>\n",
       "      <td>1.000000</td>\n",
       "      <td>1.000000</td>\n",
       "      <td>1.000000</td>\n",
       "      <td>1.000000</td>\n",
       "      <td>1.000000</td>\n",
       "      <td>1.000000</td>\n",
       "      <td>1.000000</td>\n",
       "      <td>1.000000</td>\n",
       "      <td>1.000000</td>\n",
       "      <td>1.000000</td>\n",
       "      <td>0.000000</td>\n",
       "      <td>0.000000</td>\n",
       "      <td>0.000000</td>\n",
       "      <td>0.000000</td>\n",
       "      <td>1.000000</td>\n",
       "      <td>0.000000</td>\n",
       "    </tr>\n",
       "    <tr>\n",
       "      <th>max</th>\n",
       "      <td>1.000000</td>\n",
       "      <td>1.000000</td>\n",
       "      <td>1.000000</td>\n",
       "      <td>1.000000</td>\n",
       "      <td>1.000000</td>\n",
       "      <td>1.000000</td>\n",
       "      <td>1.000000</td>\n",
       "      <td>1.000000</td>\n",
       "      <td>1.000000</td>\n",
       "      <td>1.000000</td>\n",
       "      <td>1.000000</td>\n",
       "      <td>1.000000</td>\n",
       "      <td>1.000000</td>\n",
       "      <td>1.000000</td>\n",
       "      <td>1.000000</td>\n",
       "      <td>1.000000</td>\n",
       "      <td>1.000000</td>\n",
       "      <td>1.000000</td>\n",
       "      <td>1.000000</td>\n",
       "      <td>1.000000</td>\n",
       "    </tr>\n",
       "  </tbody>\n",
       "</table>\n",
       "</div>"
      ],
      "text/plain": [
       "              COUGH  MUSCLE_ACHES     TIREDNESS   SORE_THROAT    RUNNY_NOSE  \\\n",
       "count  44453.000000  44453.000000  44453.000000  44453.000000  44453.000000   \n",
       "mean       0.520662      0.519762      0.519897      0.519358      0.496232   \n",
       "std        0.499579      0.499615      0.499610      0.499631      0.499991   \n",
       "min        0.000000      0.000000      0.000000      0.000000      0.000000   \n",
       "25%        0.000000      0.000000      0.000000      0.000000      0.000000   \n",
       "50%        1.000000      1.000000      1.000000      1.000000      0.000000   \n",
       "75%        1.000000      1.000000      1.000000      1.000000      1.000000   \n",
       "max        1.000000      1.000000      1.000000      1.000000      1.000000   \n",
       "\n",
       "        STUFFY_NOSE         FEVER        NAUSEA      VOMITING      DIARRHEA  \\\n",
       "count  44453.000000  44453.000000  44453.000000  44453.000000  44453.000000   \n",
       "mean       0.495850      0.325400      0.324253      0.324523      0.323465   \n",
       "std        0.499988      0.468529      0.468100      0.468201      0.467804   \n",
       "min        0.000000      0.000000      0.000000      0.000000      0.000000   \n",
       "25%        0.000000      0.000000      0.000000      0.000000      0.000000   \n",
       "50%        0.000000      0.000000      0.000000      0.000000      0.000000   \n",
       "75%        1.000000      1.000000      1.000000      1.000000      1.000000   \n",
       "max        1.000000      1.000000      1.000000      1.000000      1.000000   \n",
       "\n",
       "       SHORTNESS_OF_BREATH  DIFFICULTY_BREATHING  LOSS_OF_TASTE  \\\n",
       "count         44453.000000          44453.000000   44453.000000   \n",
       "mean              0.323893              0.324455       0.422986   \n",
       "std               0.467965              0.468176       0.494039   \n",
       "min               0.000000              0.000000       0.000000   \n",
       "25%               0.000000              0.000000       0.000000   \n",
       "50%               0.000000              0.000000       0.000000   \n",
       "75%               1.000000              1.000000       1.000000   \n",
       "max               1.000000              1.000000       1.000000   \n",
       "\n",
       "       LOSS_OF_SMELL    ITCHY_NOSE    ITCHY_EYES   ITCHY_MOUTH  \\\n",
       "count   44453.000000  44453.000000  44453.000000  44453.000000   \n",
       "mean        0.423234      0.184285      0.184285      0.184285   \n",
       "std         0.494077      0.387720      0.387720      0.387720   \n",
       "min         0.000000      0.000000      0.000000      0.000000   \n",
       "25%         0.000000      0.000000      0.000000      0.000000   \n",
       "50%         0.000000      0.000000      0.000000      0.000000   \n",
       "75%         1.000000      0.000000      0.000000      0.000000   \n",
       "max         1.000000      1.000000      1.000000      1.000000   \n",
       "\n",
       "       ITCHY_INNER_EAR      SNEEZING      PINK_EYE  \n",
       "count     44453.000000  44453.000000  44453.000000  \n",
       "mean          0.184285      0.519313      0.184240  \n",
       "std           0.387720      0.499633      0.387684  \n",
       "min           0.000000      0.000000      0.000000  \n",
       "25%           0.000000      0.000000      0.000000  \n",
       "50%           0.000000      1.000000      0.000000  \n",
       "75%           0.000000      1.000000      0.000000  \n",
       "max           1.000000      1.000000      1.000000  "
      ]
     },
     "execution_count": 34,
     "metadata": {},
     "output_type": "execute_result"
    }
   ],
   "source": [
    "data.describe()"
   ]
  },
  {
   "cell_type": "code",
   "execution_count": 35,
   "id": "9C5WtgDDxNxR",
   "metadata": {
    "colab": {
     "base_uri": "https://localhost:8080/",
     "height": 775
    },
    "id": "9C5WtgDDxNxR",
    "outputId": "2e0e6661-5aa8-4669-a8ea-4a720f6b0ae8"
   },
   "outputs": [
    {
     "name": "stderr",
     "output_type": "stream",
     "text": [
      "C:\\Users\\asus\\AppData\\Local\\Temp\\ipykernel_14788\\2601176157.py:1: FutureWarning: The default value of numeric_only in DataFrame.corr is deprecated. In a future version, it will default to False. Select only valid columns or specify the value of numeric_only to silence this warning.\n",
      "  corr = data.corr()\n"
     ]
    },
    {
     "data": {
      "text/html": [
       "<div>\n",
       "<style scoped>\n",
       "    .dataframe tbody tr th:only-of-type {\n",
       "        vertical-align: middle;\n",
       "    }\n",
       "\n",
       "    .dataframe tbody tr th {\n",
       "        vertical-align: top;\n",
       "    }\n",
       "\n",
       "    .dataframe thead th {\n",
       "        text-align: right;\n",
       "    }\n",
       "</style>\n",
       "<table border=\"1\" class=\"dataframe\">\n",
       "  <thead>\n",
       "    <tr style=\"text-align: right;\">\n",
       "      <th></th>\n",
       "      <th>COUGH</th>\n",
       "      <th>MUSCLE_ACHES</th>\n",
       "      <th>TIREDNESS</th>\n",
       "      <th>SORE_THROAT</th>\n",
       "      <th>RUNNY_NOSE</th>\n",
       "      <th>STUFFY_NOSE</th>\n",
       "      <th>FEVER</th>\n",
       "      <th>NAUSEA</th>\n",
       "      <th>VOMITING</th>\n",
       "      <th>DIARRHEA</th>\n",
       "      <th>SHORTNESS_OF_BREATH</th>\n",
       "      <th>DIFFICULTY_BREATHING</th>\n",
       "      <th>LOSS_OF_TASTE</th>\n",
       "      <th>LOSS_OF_SMELL</th>\n",
       "      <th>ITCHY_NOSE</th>\n",
       "      <th>ITCHY_EYES</th>\n",
       "      <th>ITCHY_MOUTH</th>\n",
       "      <th>ITCHY_INNER_EAR</th>\n",
       "      <th>SNEEZING</th>\n",
       "      <th>PINK_EYE</th>\n",
       "    </tr>\n",
       "  </thead>\n",
       "  <tbody>\n",
       "    <tr>\n",
       "      <th>COUGH</th>\n",
       "      <td>1.000000</td>\n",
       "      <td>-0.006751</td>\n",
       "      <td>-0.006131</td>\n",
       "      <td>-0.006357</td>\n",
       "      <td>-0.004079</td>\n",
       "      <td>-0.005263</td>\n",
       "      <td>0.013227</td>\n",
       "      <td>0.011657</td>\n",
       "      <td>0.010091</td>\n",
       "      <td>0.011686</td>\n",
       "      <td>0.011211</td>\n",
       "      <td>0.009665</td>\n",
       "      <td>0.023971</td>\n",
       "      <td>0.020439</td>\n",
       "      <td>-0.019659</td>\n",
       "      <td>-0.019659</td>\n",
       "      <td>-0.019659</td>\n",
       "      <td>-0.019659</td>\n",
       "      <td>-0.007885</td>\n",
       "      <td>-0.019656</td>\n",
       "    </tr>\n",
       "    <tr>\n",
       "      <th>MUSCLE_ACHES</th>\n",
       "      <td>-0.006751</td>\n",
       "      <td>1.000000</td>\n",
       "      <td>-0.005879</td>\n",
       "      <td>-0.005115</td>\n",
       "      <td>-0.004903</td>\n",
       "      <td>-0.004737</td>\n",
       "      <td>0.013419</td>\n",
       "      <td>0.009344</td>\n",
       "      <td>0.011051</td>\n",
       "      <td>0.009273</td>\n",
       "      <td>0.010917</td>\n",
       "      <td>0.005815</td>\n",
       "      <td>0.020134</td>\n",
       "      <td>0.020613</td>\n",
       "      <td>-0.018801</td>\n",
       "      <td>-0.018801</td>\n",
       "      <td>-0.018801</td>\n",
       "      <td>-0.018801</td>\n",
       "      <td>-0.004571</td>\n",
       "      <td>-0.018682</td>\n",
       "    </tr>\n",
       "    <tr>\n",
       "      <th>TIREDNESS</th>\n",
       "      <td>-0.006131</td>\n",
       "      <td>-0.005879</td>\n",
       "      <td>1.000000</td>\n",
       "      <td>-0.007378</td>\n",
       "      <td>-0.003460</td>\n",
       "      <td>-0.004285</td>\n",
       "      <td>0.012271</td>\n",
       "      <td>0.008773</td>\n",
       "      <td>0.009998</td>\n",
       "      <td>0.011203</td>\n",
       "      <td>0.012270</td>\n",
       "      <td>0.009956</td>\n",
       "      <td>0.019720</td>\n",
       "      <td>0.020929</td>\n",
       "      <td>-0.018930</td>\n",
       "      <td>-0.018930</td>\n",
       "      <td>-0.018930</td>\n",
       "      <td>-0.018930</td>\n",
       "      <td>-0.004401</td>\n",
       "      <td>-0.018927</td>\n",
       "    </tr>\n",
       "    <tr>\n",
       "      <th>SORE_THROAT</th>\n",
       "      <td>-0.006357</td>\n",
       "      <td>-0.005115</td>\n",
       "      <td>-0.007378</td>\n",
       "      <td>1.000000</td>\n",
       "      <td>-0.003828</td>\n",
       "      <td>-0.004744</td>\n",
       "      <td>0.012156</td>\n",
       "      <td>0.007886</td>\n",
       "      <td>0.009689</td>\n",
       "      <td>0.008196</td>\n",
       "      <td>0.010900</td>\n",
       "      <td>0.008877</td>\n",
       "      <td>0.022103</td>\n",
       "      <td>0.017297</td>\n",
       "      <td>-0.018415</td>\n",
       "      <td>-0.018415</td>\n",
       "      <td>-0.018415</td>\n",
       "      <td>-0.018415</td>\n",
       "      <td>-0.005801</td>\n",
       "      <td>-0.018529</td>\n",
       "    </tr>\n",
       "    <tr>\n",
       "      <th>RUNNY_NOSE</th>\n",
       "      <td>-0.004079</td>\n",
       "      <td>-0.004903</td>\n",
       "      <td>-0.003460</td>\n",
       "      <td>-0.003828</td>\n",
       "      <td>1.000000</td>\n",
       "      <td>0.041040</td>\n",
       "      <td>-0.007682</td>\n",
       "      <td>-0.005257</td>\n",
       "      <td>-0.008614</td>\n",
       "      <td>-0.004647</td>\n",
       "      <td>-0.008821</td>\n",
       "      <td>-0.006934</td>\n",
       "      <td>0.060959</td>\n",
       "      <td>0.060366</td>\n",
       "      <td>0.003582</td>\n",
       "      <td>0.003582</td>\n",
       "      <td>0.003582</td>\n",
       "      <td>0.003582</td>\n",
       "      <td>-0.004189</td>\n",
       "      <td>0.003698</td>\n",
       "    </tr>\n",
       "    <tr>\n",
       "      <th>STUFFY_NOSE</th>\n",
       "      <td>-0.005263</td>\n",
       "      <td>-0.004737</td>\n",
       "      <td>-0.004285</td>\n",
       "      <td>-0.004744</td>\n",
       "      <td>0.041040</td>\n",
       "      <td>1.000000</td>\n",
       "      <td>-0.005134</td>\n",
       "      <td>-0.006265</td>\n",
       "      <td>-0.008853</td>\n",
       "      <td>-0.009120</td>\n",
       "      <td>-0.008388</td>\n",
       "      <td>-0.007461</td>\n",
       "      <td>0.058063</td>\n",
       "      <td>0.059747</td>\n",
       "      <td>0.003946</td>\n",
       "      <td>0.003946</td>\n",
       "      <td>0.003946</td>\n",
       "      <td>0.003946</td>\n",
       "      <td>-0.002043</td>\n",
       "      <td>0.004061</td>\n",
       "    </tr>\n",
       "    <tr>\n",
       "      <th>FEVER</th>\n",
       "      <td>0.013227</td>\n",
       "      <td>0.013419</td>\n",
       "      <td>0.012271</td>\n",
       "      <td>0.012156</td>\n",
       "      <td>-0.007682</td>\n",
       "      <td>-0.005134</td>\n",
       "      <td>1.000000</td>\n",
       "      <td>0.280095</td>\n",
       "      <td>0.278506</td>\n",
       "      <td>0.277233</td>\n",
       "      <td>0.277221</td>\n",
       "      <td>0.279749</td>\n",
       "      <td>-0.050197</td>\n",
       "      <td>-0.049666</td>\n",
       "      <td>-0.330111</td>\n",
       "      <td>-0.330111</td>\n",
       "      <td>-0.330111</td>\n",
       "      <td>-0.330111</td>\n",
       "      <td>0.010489</td>\n",
       "      <td>-0.330062</td>\n",
       "    </tr>\n",
       "    <tr>\n",
       "      <th>NAUSEA</th>\n",
       "      <td>0.011657</td>\n",
       "      <td>0.009344</td>\n",
       "      <td>0.008773</td>\n",
       "      <td>0.007886</td>\n",
       "      <td>-0.005257</td>\n",
       "      <td>-0.006265</td>\n",
       "      <td>0.280095</td>\n",
       "      <td>1.000000</td>\n",
       "      <td>0.299449</td>\n",
       "      <td>0.301886</td>\n",
       "      <td>0.300841</td>\n",
       "      <td>0.303055</td>\n",
       "      <td>-0.041432</td>\n",
       "      <td>-0.040998</td>\n",
       "      <td>-0.329249</td>\n",
       "      <td>-0.329249</td>\n",
       "      <td>-0.329249</td>\n",
       "      <td>-0.329249</td>\n",
       "      <td>0.008333</td>\n",
       "      <td>-0.329200</td>\n",
       "    </tr>\n",
       "    <tr>\n",
       "      <th>VOMITING</th>\n",
       "      <td>0.010091</td>\n",
       "      <td>0.011051</td>\n",
       "      <td>0.009998</td>\n",
       "      <td>0.009689</td>\n",
       "      <td>-0.008614</td>\n",
       "      <td>-0.008853</td>\n",
       "      <td>0.278506</td>\n",
       "      <td>0.299449</td>\n",
       "      <td>1.000000</td>\n",
       "      <td>0.300497</td>\n",
       "      <td>0.300582</td>\n",
       "      <td>0.300948</td>\n",
       "      <td>-0.042111</td>\n",
       "      <td>-0.043136</td>\n",
       "      <td>-0.329452</td>\n",
       "      <td>-0.329452</td>\n",
       "      <td>-0.329452</td>\n",
       "      <td>-0.329452</td>\n",
       "      <td>0.009366</td>\n",
       "      <td>-0.329403</td>\n",
       "    </tr>\n",
       "    <tr>\n",
       "      <th>DIARRHEA</th>\n",
       "      <td>0.011686</td>\n",
       "      <td>0.009273</td>\n",
       "      <td>0.011203</td>\n",
       "      <td>0.008196</td>\n",
       "      <td>-0.004647</td>\n",
       "      <td>-0.009120</td>\n",
       "      <td>0.277233</td>\n",
       "      <td>0.301886</td>\n",
       "      <td>0.300497</td>\n",
       "      <td>1.000000</td>\n",
       "      <td>0.297675</td>\n",
       "      <td>0.301024</td>\n",
       "      <td>-0.042451</td>\n",
       "      <td>-0.044059</td>\n",
       "      <td>-0.328658</td>\n",
       "      <td>-0.328658</td>\n",
       "      <td>-0.328658</td>\n",
       "      <td>-0.328658</td>\n",
       "      <td>0.011435</td>\n",
       "      <td>-0.328609</td>\n",
       "    </tr>\n",
       "    <tr>\n",
       "      <th>SHORTNESS_OF_BREATH</th>\n",
       "      <td>0.011211</td>\n",
       "      <td>0.010917</td>\n",
       "      <td>0.012270</td>\n",
       "      <td>0.010900</td>\n",
       "      <td>-0.008821</td>\n",
       "      <td>-0.008388</td>\n",
       "      <td>0.277221</td>\n",
       "      <td>0.300841</td>\n",
       "      <td>0.300582</td>\n",
       "      <td>0.297675</td>\n",
       "      <td>1.000000</td>\n",
       "      <td>0.301314</td>\n",
       "      <td>-0.043218</td>\n",
       "      <td>-0.041713</td>\n",
       "      <td>-0.328979</td>\n",
       "      <td>-0.328979</td>\n",
       "      <td>-0.328979</td>\n",
       "      <td>-0.328979</td>\n",
       "      <td>0.011251</td>\n",
       "      <td>-0.328929</td>\n",
       "    </tr>\n",
       "    <tr>\n",
       "      <th>DIFFICULTY_BREATHING</th>\n",
       "      <td>0.009665</td>\n",
       "      <td>0.005815</td>\n",
       "      <td>0.009956</td>\n",
       "      <td>0.008877</td>\n",
       "      <td>-0.006934</td>\n",
       "      <td>-0.007461</td>\n",
       "      <td>0.279749</td>\n",
       "      <td>0.303055</td>\n",
       "      <td>0.300948</td>\n",
       "      <td>0.301024</td>\n",
       "      <td>0.301314</td>\n",
       "      <td>1.000000</td>\n",
       "      <td>-0.042185</td>\n",
       "      <td>-0.041167</td>\n",
       "      <td>-0.329401</td>\n",
       "      <td>-0.329401</td>\n",
       "      <td>-0.329401</td>\n",
       "      <td>-0.329401</td>\n",
       "      <td>0.008555</td>\n",
       "      <td>-0.329352</td>\n",
       "    </tr>\n",
       "    <tr>\n",
       "      <th>LOSS_OF_TASTE</th>\n",
       "      <td>0.023971</td>\n",
       "      <td>0.020134</td>\n",
       "      <td>0.019720</td>\n",
       "      <td>0.022103</td>\n",
       "      <td>0.060959</td>\n",
       "      <td>0.058063</td>\n",
       "      <td>-0.050197</td>\n",
       "      <td>-0.041432</td>\n",
       "      <td>-0.042111</td>\n",
       "      <td>-0.042451</td>\n",
       "      <td>-0.043218</td>\n",
       "      <td>-0.042185</td>\n",
       "      <td>1.000000</td>\n",
       "      <td>-0.028115</td>\n",
       "      <td>0.074095</td>\n",
       "      <td>0.074095</td>\n",
       "      <td>0.074095</td>\n",
       "      <td>0.074095</td>\n",
       "      <td>0.021086</td>\n",
       "      <td>0.074084</td>\n",
       "    </tr>\n",
       "    <tr>\n",
       "      <th>LOSS_OF_SMELL</th>\n",
       "      <td>0.020439</td>\n",
       "      <td>0.020613</td>\n",
       "      <td>0.020929</td>\n",
       "      <td>0.017297</td>\n",
       "      <td>0.060366</td>\n",
       "      <td>0.059747</td>\n",
       "      <td>-0.049666</td>\n",
       "      <td>-0.040998</td>\n",
       "      <td>-0.043136</td>\n",
       "      <td>-0.044059</td>\n",
       "      <td>-0.041713</td>\n",
       "      <td>-0.041167</td>\n",
       "      <td>-0.028115</td>\n",
       "      <td>1.000000</td>\n",
       "      <td>0.073851</td>\n",
       "      <td>0.073851</td>\n",
       "      <td>0.073851</td>\n",
       "      <td>0.073851</td>\n",
       "      <td>0.019744</td>\n",
       "      <td>0.073840</td>\n",
       "    </tr>\n",
       "    <tr>\n",
       "      <th>ITCHY_NOSE</th>\n",
       "      <td>-0.019659</td>\n",
       "      <td>-0.018801</td>\n",
       "      <td>-0.018930</td>\n",
       "      <td>-0.018415</td>\n",
       "      <td>0.003582</td>\n",
       "      <td>0.003946</td>\n",
       "      <td>-0.330111</td>\n",
       "      <td>-0.329249</td>\n",
       "      <td>-0.329452</td>\n",
       "      <td>-0.328658</td>\n",
       "      <td>-0.328979</td>\n",
       "      <td>-0.329401</td>\n",
       "      <td>0.074095</td>\n",
       "      <td>0.073851</td>\n",
       "      <td>1.000000</td>\n",
       "      <td>0.387041</td>\n",
       "      <td>0.387041</td>\n",
       "      <td>0.387041</td>\n",
       "      <td>-0.018373</td>\n",
       "      <td>0.387133</td>\n",
       "    </tr>\n",
       "    <tr>\n",
       "      <th>ITCHY_EYES</th>\n",
       "      <td>-0.019659</td>\n",
       "      <td>-0.018801</td>\n",
       "      <td>-0.018930</td>\n",
       "      <td>-0.018415</td>\n",
       "      <td>0.003582</td>\n",
       "      <td>0.003946</td>\n",
       "      <td>-0.330111</td>\n",
       "      <td>-0.329249</td>\n",
       "      <td>-0.329452</td>\n",
       "      <td>-0.328658</td>\n",
       "      <td>-0.328979</td>\n",
       "      <td>-0.329401</td>\n",
       "      <td>0.074095</td>\n",
       "      <td>0.073851</td>\n",
       "      <td>0.387041</td>\n",
       "      <td>1.000000</td>\n",
       "      <td>0.387041</td>\n",
       "      <td>0.387041</td>\n",
       "      <td>-0.018373</td>\n",
       "      <td>0.387133</td>\n",
       "    </tr>\n",
       "    <tr>\n",
       "      <th>ITCHY_MOUTH</th>\n",
       "      <td>-0.019659</td>\n",
       "      <td>-0.018801</td>\n",
       "      <td>-0.018930</td>\n",
       "      <td>-0.018415</td>\n",
       "      <td>0.003582</td>\n",
       "      <td>0.003946</td>\n",
       "      <td>-0.330111</td>\n",
       "      <td>-0.329249</td>\n",
       "      <td>-0.329452</td>\n",
       "      <td>-0.328658</td>\n",
       "      <td>-0.328979</td>\n",
       "      <td>-0.329401</td>\n",
       "      <td>0.074095</td>\n",
       "      <td>0.073851</td>\n",
       "      <td>0.387041</td>\n",
       "      <td>0.387041</td>\n",
       "      <td>1.000000</td>\n",
       "      <td>0.387041</td>\n",
       "      <td>-0.018373</td>\n",
       "      <td>0.387133</td>\n",
       "    </tr>\n",
       "    <tr>\n",
       "      <th>ITCHY_INNER_EAR</th>\n",
       "      <td>-0.019659</td>\n",
       "      <td>-0.018801</td>\n",
       "      <td>-0.018930</td>\n",
       "      <td>-0.018415</td>\n",
       "      <td>0.003582</td>\n",
       "      <td>0.003946</td>\n",
       "      <td>-0.330111</td>\n",
       "      <td>-0.329249</td>\n",
       "      <td>-0.329452</td>\n",
       "      <td>-0.328658</td>\n",
       "      <td>-0.328979</td>\n",
       "      <td>-0.329401</td>\n",
       "      <td>0.074095</td>\n",
       "      <td>0.073851</td>\n",
       "      <td>0.387041</td>\n",
       "      <td>0.387041</td>\n",
       "      <td>0.387041</td>\n",
       "      <td>1.000000</td>\n",
       "      <td>-0.018373</td>\n",
       "      <td>0.387133</td>\n",
       "    </tr>\n",
       "    <tr>\n",
       "      <th>SNEEZING</th>\n",
       "      <td>-0.007885</td>\n",
       "      <td>-0.004571</td>\n",
       "      <td>-0.004401</td>\n",
       "      <td>-0.005801</td>\n",
       "      <td>-0.004189</td>\n",
       "      <td>-0.002043</td>\n",
       "      <td>0.010489</td>\n",
       "      <td>0.008333</td>\n",
       "      <td>0.009366</td>\n",
       "      <td>0.011435</td>\n",
       "      <td>0.011251</td>\n",
       "      <td>0.008555</td>\n",
       "      <td>0.021086</td>\n",
       "      <td>0.019744</td>\n",
       "      <td>-0.018373</td>\n",
       "      <td>-0.018373</td>\n",
       "      <td>-0.018373</td>\n",
       "      <td>-0.018373</td>\n",
       "      <td>1.000000</td>\n",
       "      <td>-0.018370</td>\n",
       "    </tr>\n",
       "    <tr>\n",
       "      <th>PINK_EYE</th>\n",
       "      <td>-0.019656</td>\n",
       "      <td>-0.018682</td>\n",
       "      <td>-0.018927</td>\n",
       "      <td>-0.018529</td>\n",
       "      <td>0.003698</td>\n",
       "      <td>0.004061</td>\n",
       "      <td>-0.330062</td>\n",
       "      <td>-0.329200</td>\n",
       "      <td>-0.329403</td>\n",
       "      <td>-0.328609</td>\n",
       "      <td>-0.328929</td>\n",
       "      <td>-0.329352</td>\n",
       "      <td>0.074084</td>\n",
       "      <td>0.073840</td>\n",
       "      <td>0.387133</td>\n",
       "      <td>0.387133</td>\n",
       "      <td>0.387133</td>\n",
       "      <td>0.387133</td>\n",
       "      <td>-0.018370</td>\n",
       "      <td>1.000000</td>\n",
       "    </tr>\n",
       "  </tbody>\n",
       "</table>\n",
       "</div>"
      ],
      "text/plain": [
       "                         COUGH  MUSCLE_ACHES  TIREDNESS  SORE_THROAT  \\\n",
       "COUGH                 1.000000     -0.006751  -0.006131    -0.006357   \n",
       "MUSCLE_ACHES         -0.006751      1.000000  -0.005879    -0.005115   \n",
       "TIREDNESS            -0.006131     -0.005879   1.000000    -0.007378   \n",
       "SORE_THROAT          -0.006357     -0.005115  -0.007378     1.000000   \n",
       "RUNNY_NOSE           -0.004079     -0.004903  -0.003460    -0.003828   \n",
       "STUFFY_NOSE          -0.005263     -0.004737  -0.004285    -0.004744   \n",
       "FEVER                 0.013227      0.013419   0.012271     0.012156   \n",
       "NAUSEA                0.011657      0.009344   0.008773     0.007886   \n",
       "VOMITING              0.010091      0.011051   0.009998     0.009689   \n",
       "DIARRHEA              0.011686      0.009273   0.011203     0.008196   \n",
       "SHORTNESS_OF_BREATH   0.011211      0.010917   0.012270     0.010900   \n",
       "DIFFICULTY_BREATHING  0.009665      0.005815   0.009956     0.008877   \n",
       "LOSS_OF_TASTE         0.023971      0.020134   0.019720     0.022103   \n",
       "LOSS_OF_SMELL         0.020439      0.020613   0.020929     0.017297   \n",
       "ITCHY_NOSE           -0.019659     -0.018801  -0.018930    -0.018415   \n",
       "ITCHY_EYES           -0.019659     -0.018801  -0.018930    -0.018415   \n",
       "ITCHY_MOUTH          -0.019659     -0.018801  -0.018930    -0.018415   \n",
       "ITCHY_INNER_EAR      -0.019659     -0.018801  -0.018930    -0.018415   \n",
       "SNEEZING             -0.007885     -0.004571  -0.004401    -0.005801   \n",
       "PINK_EYE             -0.019656     -0.018682  -0.018927    -0.018529   \n",
       "\n",
       "                      RUNNY_NOSE  STUFFY_NOSE     FEVER    NAUSEA  VOMITING  \\\n",
       "COUGH                  -0.004079    -0.005263  0.013227  0.011657  0.010091   \n",
       "MUSCLE_ACHES           -0.004903    -0.004737  0.013419  0.009344  0.011051   \n",
       "TIREDNESS              -0.003460    -0.004285  0.012271  0.008773  0.009998   \n",
       "SORE_THROAT            -0.003828    -0.004744  0.012156  0.007886  0.009689   \n",
       "RUNNY_NOSE              1.000000     0.041040 -0.007682 -0.005257 -0.008614   \n",
       "STUFFY_NOSE             0.041040     1.000000 -0.005134 -0.006265 -0.008853   \n",
       "FEVER                  -0.007682    -0.005134  1.000000  0.280095  0.278506   \n",
       "NAUSEA                 -0.005257    -0.006265  0.280095  1.000000  0.299449   \n",
       "VOMITING               -0.008614    -0.008853  0.278506  0.299449  1.000000   \n",
       "DIARRHEA               -0.004647    -0.009120  0.277233  0.301886  0.300497   \n",
       "SHORTNESS_OF_BREATH    -0.008821    -0.008388  0.277221  0.300841  0.300582   \n",
       "DIFFICULTY_BREATHING   -0.006934    -0.007461  0.279749  0.303055  0.300948   \n",
       "LOSS_OF_TASTE           0.060959     0.058063 -0.050197 -0.041432 -0.042111   \n",
       "LOSS_OF_SMELL           0.060366     0.059747 -0.049666 -0.040998 -0.043136   \n",
       "ITCHY_NOSE              0.003582     0.003946 -0.330111 -0.329249 -0.329452   \n",
       "ITCHY_EYES              0.003582     0.003946 -0.330111 -0.329249 -0.329452   \n",
       "ITCHY_MOUTH             0.003582     0.003946 -0.330111 -0.329249 -0.329452   \n",
       "ITCHY_INNER_EAR         0.003582     0.003946 -0.330111 -0.329249 -0.329452   \n",
       "SNEEZING               -0.004189    -0.002043  0.010489  0.008333  0.009366   \n",
       "PINK_EYE                0.003698     0.004061 -0.330062 -0.329200 -0.329403   \n",
       "\n",
       "                      DIARRHEA  SHORTNESS_OF_BREATH  DIFFICULTY_BREATHING  \\\n",
       "COUGH                 0.011686             0.011211              0.009665   \n",
       "MUSCLE_ACHES          0.009273             0.010917              0.005815   \n",
       "TIREDNESS             0.011203             0.012270              0.009956   \n",
       "SORE_THROAT           0.008196             0.010900              0.008877   \n",
       "RUNNY_NOSE           -0.004647            -0.008821             -0.006934   \n",
       "STUFFY_NOSE          -0.009120            -0.008388             -0.007461   \n",
       "FEVER                 0.277233             0.277221              0.279749   \n",
       "NAUSEA                0.301886             0.300841              0.303055   \n",
       "VOMITING              0.300497             0.300582              0.300948   \n",
       "DIARRHEA              1.000000             0.297675              0.301024   \n",
       "SHORTNESS_OF_BREATH   0.297675             1.000000              0.301314   \n",
       "DIFFICULTY_BREATHING  0.301024             0.301314              1.000000   \n",
       "LOSS_OF_TASTE        -0.042451            -0.043218             -0.042185   \n",
       "LOSS_OF_SMELL        -0.044059            -0.041713             -0.041167   \n",
       "ITCHY_NOSE           -0.328658            -0.328979             -0.329401   \n",
       "ITCHY_EYES           -0.328658            -0.328979             -0.329401   \n",
       "ITCHY_MOUTH          -0.328658            -0.328979             -0.329401   \n",
       "ITCHY_INNER_EAR      -0.328658            -0.328979             -0.329401   \n",
       "SNEEZING              0.011435             0.011251              0.008555   \n",
       "PINK_EYE             -0.328609            -0.328929             -0.329352   \n",
       "\n",
       "                      LOSS_OF_TASTE  LOSS_OF_SMELL  ITCHY_NOSE  ITCHY_EYES  \\\n",
       "COUGH                      0.023971       0.020439   -0.019659   -0.019659   \n",
       "MUSCLE_ACHES               0.020134       0.020613   -0.018801   -0.018801   \n",
       "TIREDNESS                  0.019720       0.020929   -0.018930   -0.018930   \n",
       "SORE_THROAT                0.022103       0.017297   -0.018415   -0.018415   \n",
       "RUNNY_NOSE                 0.060959       0.060366    0.003582    0.003582   \n",
       "STUFFY_NOSE                0.058063       0.059747    0.003946    0.003946   \n",
       "FEVER                     -0.050197      -0.049666   -0.330111   -0.330111   \n",
       "NAUSEA                    -0.041432      -0.040998   -0.329249   -0.329249   \n",
       "VOMITING                  -0.042111      -0.043136   -0.329452   -0.329452   \n",
       "DIARRHEA                  -0.042451      -0.044059   -0.328658   -0.328658   \n",
       "SHORTNESS_OF_BREATH       -0.043218      -0.041713   -0.328979   -0.328979   \n",
       "DIFFICULTY_BREATHING      -0.042185      -0.041167   -0.329401   -0.329401   \n",
       "LOSS_OF_TASTE              1.000000      -0.028115    0.074095    0.074095   \n",
       "LOSS_OF_SMELL             -0.028115       1.000000    0.073851    0.073851   \n",
       "ITCHY_NOSE                 0.074095       0.073851    1.000000    0.387041   \n",
       "ITCHY_EYES                 0.074095       0.073851    0.387041    1.000000   \n",
       "ITCHY_MOUTH                0.074095       0.073851    0.387041    0.387041   \n",
       "ITCHY_INNER_EAR            0.074095       0.073851    0.387041    0.387041   \n",
       "SNEEZING                   0.021086       0.019744   -0.018373   -0.018373   \n",
       "PINK_EYE                   0.074084       0.073840    0.387133    0.387133   \n",
       "\n",
       "                      ITCHY_MOUTH  ITCHY_INNER_EAR  SNEEZING  PINK_EYE  \n",
       "COUGH                   -0.019659        -0.019659 -0.007885 -0.019656  \n",
       "MUSCLE_ACHES            -0.018801        -0.018801 -0.004571 -0.018682  \n",
       "TIREDNESS               -0.018930        -0.018930 -0.004401 -0.018927  \n",
       "SORE_THROAT             -0.018415        -0.018415 -0.005801 -0.018529  \n",
       "RUNNY_NOSE               0.003582         0.003582 -0.004189  0.003698  \n",
       "STUFFY_NOSE              0.003946         0.003946 -0.002043  0.004061  \n",
       "FEVER                   -0.330111        -0.330111  0.010489 -0.330062  \n",
       "NAUSEA                  -0.329249        -0.329249  0.008333 -0.329200  \n",
       "VOMITING                -0.329452        -0.329452  0.009366 -0.329403  \n",
       "DIARRHEA                -0.328658        -0.328658  0.011435 -0.328609  \n",
       "SHORTNESS_OF_BREATH     -0.328979        -0.328979  0.011251 -0.328929  \n",
       "DIFFICULTY_BREATHING    -0.329401        -0.329401  0.008555 -0.329352  \n",
       "LOSS_OF_TASTE            0.074095         0.074095  0.021086  0.074084  \n",
       "LOSS_OF_SMELL            0.073851         0.073851  0.019744  0.073840  \n",
       "ITCHY_NOSE               0.387041         0.387041 -0.018373  0.387133  \n",
       "ITCHY_EYES               0.387041         0.387041 -0.018373  0.387133  \n",
       "ITCHY_MOUTH              1.000000         0.387041 -0.018373  0.387133  \n",
       "ITCHY_INNER_EAR          0.387041         1.000000 -0.018373  0.387133  \n",
       "SNEEZING                -0.018373        -0.018373  1.000000 -0.018370  \n",
       "PINK_EYE                 0.387133         0.387133 -0.018370  1.000000  "
      ]
     },
     "execution_count": 35,
     "metadata": {},
     "output_type": "execute_result"
    }
   ],
   "source": [
    "corr = data.corr()\n",
    "corr"
   ]
  },
  {
   "cell_type": "code",
   "execution_count": 36,
   "id": "RZyPOfcuxN51",
   "metadata": {
    "colab": {
     "base_uri": "https://localhost:8080/",
     "height": 610
    },
    "id": "RZyPOfcuxN51",
    "outputId": "f37fb44e-86fc-4ce6-d1ca-2501c7cc385c"
   },
   "outputs": [
    {
     "data": {
      "text/plain": [
       "<Axes: >"
      ]
     },
     "execution_count": 36,
     "metadata": {},
     "output_type": "execute_result"
    },
    {
     "data": {
      "image/png": "[encoded data removed]",
      "text/plain": [
       "<Figure size 640x480 with 2 Axes>"
      ]
     },
     "metadata": {},
     "output_type": "display_data"
    }
   ],
   "source": [
    "import seaborn as sns\n",
    "sns.heatmap(corr,annot=True,cbar=True, cmap='coolwarm')"
   ]
  },
  {
   "cell_type": "code",
   "execution_count": 37,
   "id": "HcHtlpSkxN8E",
   "metadata": {
    "colab": {
     "base_uri": "https://localhost:8080/"
    },
    "id": "HcHtlpSkxN8E",
    "outputId": "2cbb2221-b89e-4f60-a9f8-cfc962feab1d"
   },
   "outputs": [
    {
     "data": {
      "text/plain": [
       "FLU        25000\n",
       "ALLERGY    16381\n",
       "COVID       2048\n",
       "COLD        1024\n",
       "Name: TYPE, dtype: int64"
      ]
     },
     "execution_count": 37,
     "metadata": {},
     "output_type": "execute_result"
    }
   ],
   "source": [
    "data['TYPE'].value_counts()"
   ]
  },
  {
   "cell_type": "code",
   "execution_count": 38,
   "id": "mQSv6StwxN-4",
   "metadata": {
    "colab": {
     "base_uri": "https://localhost:8080/",
     "height": 640
    },
    "id": "mQSv6StwxN-4",
    "outputId": "5d70987e-c9b2-4bb8-80c0-b1c7f40ee8e5"
   },
   "outputs": [
    {
     "name": "stderr",
     "output_type": "stream",
     "text": [
      "C:\\Users\\asus\\AppData\\Local\\Temp\\ipykernel_14788\\1731145193.py:2: UserWarning: \n",
      "\n",
      "`distplot` is a deprecated function and will be removed in seaborn v0.14.0.\n",
      "\n",
      "Please adapt your code to use either `displot` (a figure-level function with\n",
      "similar flexibility) or `histplot` (an axes-level function for histograms).\n",
      "\n",
      "For a guide to updating your code to use the new functions, please see\n",
      "https://gist.github.com/mwaskom/de44147ed2974457ad6372750bbe5751\n",
      "\n",
      "  sns.distplot(data['COUGH'])\n"
     ]
    },
    {
     "data": {
      "image/png": "[encoded data removed]",
      "text/plain": [
       "<Figure size 640x480 with 1 Axes>"
      ]
     },
     "metadata": {},
     "output_type": "display_data"
    }
   ],
   "source": [
    "import matplotlib.pyplot as plt\n",
    "sns.distplot(data['COUGH'])\n",
    "plt.show()"
   ]
  },
  {
   "cell_type": "code",
   "execution_count": 39,
   "id": "9el5S9Tbz8PV",
   "metadata": {
    "id": "9el5S9Tbz8PV"
   },
   "outputs": [],
   "source": [
    "data_dict = {\n",
    "    'FLU' : 1,\n",
    "    'ALLERGY' : 2,\n",
    "    'COVID' : 3,\n",
    "    'COLD' : 4\n",
    "}\n",
    "data['data_num']=data['TYPE'].map(data_dict)"
   ]
  },
  {
   "cell_type": "code",
   "execution_count": 40,
   "id": "q5uBpva0z8TH",
   "metadata": {
    "colab": {
     "base_uri": "https://localhost:8080/"
    },
    "id": "q5uBpva0z8TH",
    "outputId": "0846d531-533c-46aa-bf35-33bb0241bd40"
   },
   "outputs": [
    {
     "data": {
      "text/plain": [
       "1    25000\n",
       "2    16381\n",
       "3     2048\n",
       "4     1024\n",
       "Name: data_num, dtype: int64"
      ]
     },
     "execution_count": 40,
     "metadata": {},
     "output_type": "execute_result"
    }
   ],
   "source": [
    "data['data_num'].value_counts()"
   ]
  },
  {
   "cell_type": "code",
   "execution_count": 41,
   "id": "R9aSRiZiz8Wp",
   "metadata": {
    "id": "R9aSRiZiz8Wp"
   },
   "outputs": [],
   "source": [
    "data.drop('TYPE', axis=1,inplace=True)"
   ]
  },
  {
   "cell_type": "code",
   "execution_count": 42,
   "id": "ZTu-_8m8z8an",
   "metadata": {
    "id": "ZTu-_8m8z8an"
   },
   "outputs": [],
   "source": [
    "x = data.drop('data_num',axis=1)\n",
    "y = data['data_num']"
   ]
  },
  {
   "cell_type": "code",
   "execution_count": 43,
   "id": "D2lmNghjz8f3",
   "metadata": {
    "colab": {
     "base_uri": "https://localhost:8080/"
    },
    "id": "D2lmNghjz8f3",
    "outputId": "fc0d2aa5-f649-4d21-e4a8-f8fd5227ac08"
   },
   "outputs": [
    {
     "data": {
      "text/plain": [
       "(44453, 20)"
      ]
     },
     "execution_count": 43,
     "metadata": {},
     "output_type": "execute_result"
    }
   ],
   "source": [
    "x.shape"
   ]
  },
  {
   "cell_type": "code",
   "execution_count": 44,
   "id": "V_wznN-fxOCf",
   "metadata": {
    "colab": {
     "base_uri": "https://localhost:8080/"
    },
    "id": "V_wznN-fxOCf",
    "outputId": "b3c4b277-110f-497e-b931-907ea2c53de0"
   },
   "outputs": [
    {
     "data": {
      "text/plain": [
       "(44453,)"
      ]
     },
     "execution_count": 44,
     "metadata": {},
     "output_type": "execute_result"
    }
   ],
   "source": [
    "y.shape"
   ]
  },
  {
   "cell_type": "code",
   "execution_count": 45,
   "id": "wiQ7rls6xOE9",
   "metadata": {
    "id": "wiQ7rls6xOE9"
   },
   "outputs": [],
   "source": [
    "from sklearn.model_selection import train_test_split"
   ]
  },
  {
   "cell_type": "code",
   "execution_count": 46,
   "id": "ZrtmyFgd4NEZ",
   "metadata": {
    "id": "ZrtmyFgd4NEZ"
   },
   "outputs": [],
   "source": [
    "x_train, x_test, y_train, y_test = train_test_split(x, y, test_size=0.2, random_state=42)"
   ]
  },
  {
   "cell_type": "code",
   "execution_count": 47,
   "id": "sD7WWjY24NGu",
   "metadata": {
    "colab": {
     "base_uri": "https://localhost:8080/"
    },
    "id": "sD7WWjY24NGu",
    "outputId": "7957b31b-b12b-40f1-8e57-7a12a3c8308c"
   },
   "outputs": [
    {
     "data": {
      "text/plain": [
       "(35562, 20)"
      ]
     },
     "execution_count": 47,
     "metadata": {},
     "output_type": "execute_result"
    }
   ],
   "source": [
    "x_train.shape"
   ]
  },
  {
   "cell_type": "code",
   "execution_count": 48,
   "id": "kZLEQEKw4NJi",
   "metadata": {
    "colab": {
     "base_uri": "https://localhost:8080/"
    },
    "id": "kZLEQEKw4NJi",
    "outputId": "b101af9e-3cff-430f-b759-ad6afc22d394"
   },
   "outputs": [
    {
     "data": {
      "text/plain": [
       "(8891, 20)"
      ]
     },
     "execution_count": 48,
     "metadata": {},
     "output_type": "execute_result"
    }
   ],
   "source": [
    "x_test.shape"
   ]
  },
  {
   "cell_type": "code",
   "execution_count": 49,
   "id": "Pfxc4FeE4NL_",
   "metadata": {
    "id": "Pfxc4FeE4NL_"
   },
   "outputs": [],
   "source": [
    "from sklearn.preprocessing import MinMaxScaler\n",
    "ms = MinMaxScaler()\n",
    "\n",
    "ms.fit(x_train)\n",
    "x_train = ms.transform(x_train)\n",
    "x_test = ms.transform(x_test)"
   ]
  },
  {
   "cell_type": "code",
   "execution_count": 50,
   "id": "dk8CFtE84NN5",
   "metadata": {
    "colab": {
     "base_uri": "https://localhost:8080/"
    },
    "id": "dk8CFtE84NN5",
    "outputId": "f91cd32b-d1b1-4bf3-ca4f-05fc8f8862ff"
   },
   "outputs": [
    {
     "data": {
      "text/plain": [
       "array([[1., 1., 0., ..., 0., 0., 0.],\n",
       "       [1., 0., 0., ..., 0., 0., 0.],\n",
       "       [0., 0., 1., ..., 0., 1., 0.],\n",
       "       ...,\n",
       "       [1., 0., 1., ..., 0., 1., 0.],\n",
       "       [0., 0., 1., ..., 1., 0., 1.],\n",
       "       [0., 1., 1., ..., 1., 1., 1.]])"
      ]
     },
     "execution_count": 50,
     "metadata": {},
     "output_type": "execute_result"
    }
   ],
   "source": [
    "x_train"
   ]
  },
  {
   "cell_type": "code",
   "execution_count": 51,
   "id": "Bh0BHHfR4NQq",
   "metadata": {
    "id": "Bh0BHHfR4NQq"
   },
   "outputs": [],
   "source": [
    "from sklearn.preprocessing import StandardScaler\n",
    "sc = StandardScaler()\n",
    "\n",
    "sc.fit(x_train)\n",
    "x_train = sc.transform(x_train)\n",
    "x_test = sc.transform(x_test)"
   ]
  },
  {
   "cell_type": "code",
   "execution_count": 52,
   "id": "cv9Q4r7O4NTJ",
   "metadata": {
    "colab": {
     "base_uri": "https://localhost:8080/"
    },
    "id": "cv9Q4r7O4NTJ",
    "outputId": "eff3b52f-eda2-49f2-a9fd-8d22d62ecaaa"
   },
   "outputs": [
    {
     "data": {
      "text/plain": [
       "array([[ 0.95489931,  0.95883538, -1.03398356, ..., -0.47541792,\n",
       "        -1.04164009, -0.47483994],\n",
       "       [ 0.95489931, -1.0429319 , -1.03398356, ..., -0.47541792,\n",
       "        -1.04164009, -0.47483994],\n",
       "       [-1.04723083, -1.0429319 ,  0.96713336, ..., -0.47541792,\n",
       "         0.9600245 , -0.47483994],\n",
       "       ...,\n",
       "       [ 0.95489931, -1.0429319 ,  0.96713336, ..., -0.47541792,\n",
       "         0.9600245 , -0.47483994],\n",
       "       [-1.04723083, -1.0429319 ,  0.96713336, ...,  2.10341249,\n",
       "        -1.04164009,  2.10597282],\n",
       "       [-1.04723083,  0.95883538,  0.96713336, ...,  2.10341249,\n",
       "         0.9600245 ,  2.10597282]])"
      ]
     },
     "execution_count": 52,
     "metadata": {},
     "output_type": "execute_result"
    }
   ],
   "source": [
    "x_train"
   ]
  },
  {
   "cell_type": "code",
   "execution_count": 53,
   "id": "SzPKXkPx4NV6",
   "metadata": {
    "colab": {
     "base_uri": "https://localhost:8080/"
    },
    "id": "SzPKXkPx4NV6",
    "outputId": "52674718-c340-4fbe-a8f5-7a7f629cab54"
   },
   "outputs": [
    {
     "name": "stderr",
     "output_type": "stream",
     "text": [
      "C:\\ProgramData\\anaconda3\\lib\\site-packages\\sklearn\\linear_model\\_logistic.py:458: ConvergenceWarning: lbfgs failed to converge (status=1):\n",
      "STOP: TOTAL NO. of ITERATIONS REACHED LIMIT.\n",
      "\n",
      "Increase the number of iterations (max_iter) or scale the data as shown in:\n",
      "    https://scikit-learn.org/stable/modules/preprocessing.html\n",
      "Please also refer to the documentation for alternative solver options:\n",
      "    https://scikit-learn.org/stable/modules/linear_model.html#logistic-regression\n",
      "  n_iter_i = _check_optimize_result(\n"
     ]
    },
    {
     "name": "stdout",
     "output_type": "stream",
     "text": [
      "Logistic Regression with accuracy) : 0.9303790349791924\n",
      "Naive Bayes with accuracy) : 0.9342031267573951\n",
      "Support Vector Machine with accuracy) : 0.922056011697222\n",
      "k-Nearest Neighbors with accuracy) : 0.917557080193454\n",
      "Decision Tree with accuracy) : 0.8844899336407603\n",
      "Random Forest with accuracy) : 0.8857271398042965\n",
      "Bagging with accuracy) : 0.8857271398042965\n",
      "AdaBoost with accuracy) : 0.9270048363513665\n",
      "Gradient Boosting with accuracy) : 0.926667416488584\n",
      "Extra Trees with accuracy) : 0.8789787425486447\n"
     ]
    }
   ],
   "source": [
    "from sklearn.linear_model import LogisticRegression\n",
    "from sklearn.naive_bayes import GaussianNB\n",
    "from sklearn.svm import SVC\n",
    "from sklearn.neighbors import KNeighborsClassifier\n",
    "from sklearn.tree import DecisionTreeClassifier\n",
    "from sklearn.tree import ExtraTreeClassifier\n",
    "from sklearn.ensemble import RandomForestClassifier\n",
    "from sklearn.ensemble import BaggingClassifier\n",
    "from sklearn.ensemble import GradientBoostingClassifier\n",
    "from sklearn.ensemble import AdaBoostClassifier\n",
    "from sklearn.metrics import accuracy_score\n",
    "\n",
    "models = {\n",
    "    'Logistic Regression': LogisticRegression(),\n",
    "    'Naive Bayes': GaussianNB(),\n",
    "    'Support Vector Machine': SVC(),\n",
    "    'k-Nearest Neighbors': KNeighborsClassifier(),\n",
    "    'Decision Tree': DecisionTreeClassifier(),\n",
    "    'Random Forest': RandomForestClassifier(),\n",
    "    'Bagging': BaggingClassifier(),\n",
    "    'AdaBoost': AdaBoostClassifier(),\n",
    "    'Gradient Boosting': GradientBoostingClassifier(),\n",
    "    'Extra Trees': ExtraTreeClassifier()\n",
    "}\n",
    "\n",
    "for name, md in models.items():\n",
    "  md.fit(x_train,y_train)\n",
    "  ypred = md.predict(x_test)\n",
    "\n",
    "  print(f\"{name} with accuracy) : {accuracy_score(y_test,ypred)}\")"
   ]
  },
  {
   "cell_type": "code",
   "execution_count": 54,
   "id": "9noAq2OjFJeE",
   "metadata": {
    "colab": {
     "base_uri": "https://localhost:8080/"
    },
    "id": "9noAq2OjFJeE",
    "outputId": "48b1b27a-bde1-4585-c8c4-14627252cd9f"
   },
   "outputs": [
    {
     "data": {
      "text/plain": [
       "0.8860645596670791"
      ]
     },
     "execution_count": 54,
     "metadata": {},
     "output_type": "execute_result"
    }
   ],
   "source": [
    "rfc = RandomForestClassifier()\n",
    "rfc.fit(x_train,y_train)\n",
    "ypred = rfc.predict(x_test)\n",
    "accuracy_score(y_test,ypred)"
   ]
  },
  {
   "cell_type": "code",
   "execution_count": 55,
   "id": "4RLsX4RBFJgI",
   "metadata": {
    "id": "4RLsX4RBFJgI"
   },
   "outputs": [],
   "source": [
    "def recommendation(COUGH,MUSCLE_ACHES,TIREDNESS,SORE_THROAT,RUNNY_NOSE,STUFFY_NOSE,FEVER,NAUSEA,VOMITING,DIARRHEA,SHORTNESS_OF_BREATH,DIFFICULTY_BREATHING,LOSS_OF_TASTE,LOSS_OF_SMELL,ITCHY_NOSE,ITCHY_EYES,ITCHY_MOUTH,ITCHY_INNER_EAR,SNEEZING,PINK_EYE):\n",
    "  features = np.array([[COUGH,MUSCLE_ACHES,TIREDNESS,SORE_THROAT,RUNNY_NOSE,STUFFY_NOSE,FEVER,NAUSEA,VOMITING,DIARRHEA,SHORTNESS_OF_BREATH,DIFFICULTY_BREATHING,LOSS_OF_TASTE,LOSS_OF_SMELL,ITCHY_NOSE,ITCHY_EYES,ITCHY_MOUTH,ITCHY_INNER_EAR,SNEEZING,PINK_EYE]])\n",
    "  prediction = rfc.predict(features).reshape(1,-1)\n",
    "\n",
    "  return prediction[0]"
   ]
  },
  {
   "cell_type": "code",
   "execution_count": null,
   "id": "VwbwSx3vFJij",
   "metadata": {
    "colab": {
     "base_uri": "https://localhost:8080/"
    },
    "id": "VwbwSx3vFJij",
    "outputId": "4be9de63-86f6-4d5e-adf8-0080e5b21718"
   },
   "outputs": [],
   "source": [
    "COUGH = input(\"Apakah anda batuk? (ya/tidak): \")\n",
    "if COUGH.lower() == \"ya\":\n",
    "    COUGH = 1\n",
    "elif COUGH.lower() == \"tidak\":\n",
    "    COUGH = 0\n",
    "MUSCLE_ACHES = input(\"Apakah anda nyeri otot? (ya/tidak): \")\n",
    "if MUSCLE_ACHES.lower() == \"ya\":\n",
    "    MUSCLE_ACHES = 1\n",
    "elif MUSCLE_ACHES.lower() == \"tidak\":\n",
    "    MUSCLE_ACHES = 0\n",
    "TIREDNESS = input(\"Apakah anda kelelahan? (ya/tidak): \")\n",
    "if TIREDNESS.lower() == \"ya\":\n",
    "    TIREDNESS = 1\n",
    "elif TIREDNESS.lower() == \"tidak\":\n",
    "    TIREDNESS = 0\n",
    "SORE_THROAT = input(\"Apakah tenggorokan anda sakit? (ya/tidak): \")\n",
    "if SORE_THROAT.lower() == \"ya\":\n",
    "    SORE_THROAT = 1\n",
    "elif SORE_THROAT.lower() == \"tidak\":\n",
    "    SORE_THROAT = 0\n",
    "RUNNY_NOSE = input(\"Apakah anda pilek? (ya/tidak): \")\n",
    "if RUNNY_NOSE.lower() == \"ya\":\n",
    "    RUNNY_NOSE = 1\n",
    "elif RUNNY_NOSE.lower() == \"tidak\":\n",
    "    RUNNY_NOSE = 0\n",
    "STUFFY_NOSE = input(\"Apakah hidung anda tersumbat? (ya/tidak): \")\n",
    "if STUFFY_NOSE.lower() == \"ya\":\n",
    "    STUFFY_NOSE = 1\n",
    "elif STUFFY_NOSE.lower() == \"tidak\":\n",
    "    STUFFY_NOSE = 0\n",
    "FEVER = input(\"Apakah anda demam? (ya/tidak): \")\n",
    "if FEVER.lower() == \"ya\":\n",
    "    FEVER = 1\n",
    "elif FEVER.lower() == \"tidak\":\n",
    "    FEVER = 0\n",
    "NAUSEA = input(\"Apakah anda merasa mual? (ya/tidak): \")\n",
    "if NAUSEA.lower() == \"ya\":\n",
    "    NAUSEA = 1\n",
    "elif NAUSEA.lower() == \"tidak\":\n",
    "    NAUSEA = 0\n",
    "VOMITING = input(\"Apakah anda sempat muntah? (ya/tidak): \")\n",
    "if VOMITING.lower() == \"ya\":\n",
    "    VOMITING = 1\n",
    "elif VOMITING.lower() == \"tidak\":\n",
    "    VOMITING = 0\n",
    "DIARRHEA = input(\"Apakah anda mengalami diare? (ya/tidak): \")\n",
    "if DIARRHEA.lower() == \"ya\":\n",
    "    DIARRHEA = 1\n",
    "elif DIARRHEA.lower() == \"tidak\":\n",
    "    DIARRHEA = 0\n",
    "SHORTNESS_OF_BREATH = input(\"Apakah anda sesak napas? (ya/tidak): \")\n",
    "if SHORTNESS_OF_BREATH.lower() == \"ya\":\n",
    "    SHORTNESS_OF_BREATH = 1\n",
    "elif SHORTNESS_OF_BREATH.lower() == \"tidak\":\n",
    "    SHORTNESS_OF_BREATH = 0\n",
    "DIFFICULTY_BREATHING = input(\"Apakah anda kesulitan bernapas? (ya/tidak): \")\n",
    "if DIFFICULTY_BREATHING.lower() == \"ya\":\n",
    "    DIFFICULTY_BREATHING = 1\n",
    "elif DIFFICULTY_BREATHING.lower() == \"tidak\":\n",
    "    DIFFICULTY_BREATHING = 0\n",
    "LOSS_OF_TASTE = input(\"Apakah anda tidak bisa merasakan makanan? (ya/tidak): \")\n",
    "if LOSS_OF_TASTE.lower() == \"ya\":\n",
    "    LOSS_OF_TASTE = 1\n",
    "elif LOSS_OF_TASTE.lower() == \"tidak\":\n",
    "    LOSS_OF_TASTE = 0\n",
    "LOSS_OF_SMELL = input(\"Apakah penciuman anda berkurang? (ya/tidak): \")\n",
    "if LOSS_OF_SMELL.lower() == \"ya\":\n",
    "    LOSS_OF_SMELL = 1\n",
    "elif LOSS_OF_SMELL.lower() == \"tidak\":\n",
    "    LOSS_OF_SMELL = 0\n",
    "ITCHY_NOSE = input(\"Apakah hidung anda gatal? (ya/tidak): \")\n",
    "if ITCHY_NOSE.lower() == \"ya\":\n",
    "    ITCHY_NOSE = 1\n",
    "elif ITCHY_NOSE.lower() == \"tidak\":\n",
    "    ITCHY_NOSE = 0\n",
    "ITCHY_EYES = input(\"Apakah mata anda gatal? (ya/tidak): \")\n",
    "if ITCHY_EYES.lower() == \"ya\":\n",
    "    ITCHY_EYES = 1\n",
    "elif ITCHY_EYES.lower() == \"tidak\":\n",
    "    ITCHY_EYES = 0\n",
    "ITCHY_MOUTH = input(\"Apakah mulut anda gatal? (ya/tidak): \")\n",
    "if ITCHY_MOUTH.lower() == \"ya\":\n",
    "    ITCHY_MOUTH = 1\n",
    "elif ITCHY_MOUTH.lower() == \"tidak\":\n",
    "    ITCHY_MOUTH = 0\n",
    "ITCHY_INNER_EAR = input(\"Apakah bagian dalam telinga anda gatal? (ya/tidak): \")\n",
    "if ITCHY_INNER_EAR.lower() == \"ya\":\n",
    "    ITCHY_INNER_EAR = 1\n",
    "elif ITCHY_INNER_EAR.lower() == \"tidak\":\n",
    "    ITCHY_INNER_EAR = 0\n",
    "SNEEZING = input(\"Apakah anda sering bersin? (ya/tidak): \")\n",
    "if SNEEZING.lower() == \"ya\":\n",
    "    SNEEZING = 1\n",
    "elif SNEEZING.lower() == \"tidak\":\n",
    "    SNEEZING = 0\n",
    "PINK_EYE = input(\"Apakah mata anda berwarna pink? (ya/tidak): \")\n",
    "if PINK_EYE.lower() == \"ya\":\n",
    "    PINK_EYE = 1\n",
    "elif PINK_EYE.lower() == \"tidak\":\n",
    "    PINK_EYE = 0\n",
    "\n",
    "predict = recommendation(COUGH,MUSCLE_ACHES,TIREDNESS,SORE_THROAT,RUNNY_NOSE,STUFFY_NOSE,FEVER,NAUSEA,VOMITING,DIARRHEA,SHORTNESS_OF_BREATH,DIFFICULTY_BREATHING,LOSS_OF_TASTE,LOSS_OF_SMELL,ITCHY_NOSE,ITCHY_EYES,ITCHY_MOUTH,ITCHY_INNER_EAR,SNEEZING,PINK_EYE)\n",
    "\n",
    "data_dict = {\n",
    "    1: 'FLU',\n",
    "    2: 'ALLERGY',\n",
    "    3: 'COVID',\n",
    "    4: 'COLD'\n",
    "}\n",
    "\n",
    "if predict[0] in data_dict:\n",
    "  data = data_dict[predict[0]]\n",
    "  print(\"Anda terkena {}\".format(data))\n",
    "else:\n",
    "  print(\"Anda tidak sakit\")"
   ]
  },
  {
   "cell_type": "code",
   "execution_count": null,
   "id": "xUgcYkg8FJlO",
   "metadata": {
    "id": "xUgcYkg8FJlO"
   },
   "outputs": [],
   "source": []
  },
  {
   "cell_type": "code",
   "execution_count": null,
   "id": "7pb47IC0FJoM",
   "metadata": {
    "id": "7pb47IC0FJoM"
   },
   "outputs": [],
   "source": []
  },
  {
   "cell_type": "code",
   "execution_count": null,
   "id": "qFPYmGztFJq-",
   "metadata": {
    "id": "qFPYmGztFJq-"
   },
   "outputs": [],
   "source": []
  },
  {
   "cell_type": "code",
   "execution_count": null,
   "id": "XVsMa56GFJs3",
   "metadata": {
    "id": "XVsMa56GFJs3"
   },
   "outputs": [],
   "source": []
  },
  {
   "cell_type": "code",
   "execution_count": null,
   "id": "5YpUHVMIFJv3",
   "metadata": {
    "id": "5YpUHVMIFJv3"
   },
   "outputs": [],
   "source": []
  },
  {
   "cell_type": "code",
   "execution_count": null,
   "id": "9Ajt2QDtwq2X",
   "metadata": {
    "id": "9Ajt2QDtwq2X"
   },
   "outputs": [],
   "source": [
    "from sklearn.metrics import accuracy_score\n",
    "\n",
    "print(accuracy_score(y_pred, y_test)*100,\"%\")"
   ]
  },
  {
   "cell_type": "code",
   "execution_count": null,
   "id": "9095f996",
   "metadata": {},
   "outputs": [],
   "source": []
  },
  {
   "cell_type": "code",
   "execution_count": null,
   "id": "9b260b3e",
   "metadata": {},
   "outputs": [],
   "source": []
  },
  {
   "cell_type": "code",
   "execution_count": null,
   "id": "2885fa5e",
   "metadata": {},
   "outputs": [],
   "source": []
  }
 ],
 "metadata": {
  "colab": {
   "provenance": []
  },
  "kernelspec": {
   "display_name": "Python 3 (ipykernel)",
   "language": "python",
   "name": "python3"
  },
  "language_info": {
   "codemirror_mode": {
    "name": "ipython",
    "version": 3
   },
   "file_extension": ".py",
   "mimetype": "text/x-python",
   "name": "python",
   "nbconvert_exporter": "python",
   "pygments_lexer": "ipython3",
   "version": "3.10.9"
  }
 },
 "nbformat": 4,
 "nbformat_minor": 5
}
